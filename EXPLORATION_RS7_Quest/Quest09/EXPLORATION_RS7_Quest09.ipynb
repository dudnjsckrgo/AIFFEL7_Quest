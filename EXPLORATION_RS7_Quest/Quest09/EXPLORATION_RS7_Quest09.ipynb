{
 "cells": [
  {
   "cell_type": "markdown",
   "id": "e962122f",
   "metadata": {},
   "source": [
    "# Quest09: 한국어 데이터로 챗봇 만들기\n",
    "\n",
    "### 평가문항에 맞춰서 작성\n",
    "**1. 한국어 전처리를 통해 학습 데이터셋을 구축하였다.**  \n",
    "-> 공백과 특수문자 처리, 토크나이징, 병렬데이터 구축의 과정이 적절히 진행되었다.\n",
    "\n",
    "**2. 트랜스포머 모델을 구현하여 한국어 챗봇 모델 학습을 정상적으로 진행하였다.**  \n",
    "-> 구현한 트랜스포머 모델이 한국어 병렬 데이터 학습 시 안정적으로 수렴하였다.\n",
    "\n",
    "**3. 한국어 입력문장에 대해 한국어로 답변하는 함수를 구현하였다.**  \n",
    "-> 한국어 입력문장에 맥락에 맞는 한국어로 답변을 리턴하였다."
   ]
  },
  {
   "cell_type": "markdown",
   "id": "74da0c37",
   "metadata": {},
   "source": [
    "# Import"
   ]
  },
  {
   "cell_type": "code",
   "execution_count": 1,
   "id": "2ff6d348",
   "metadata": {},
   "outputs": [],
   "source": [
    "import tensorflow as tf\n",
    "import tensorflow_datasets as tfds\n",
    "\n",
    "import os\n",
    "import re\n",
    "import numpy as np\n",
    "import matplotlib.pyplot as plt\n",
    "\n",
    "import pandas as pd\n",
    "import random"
   ]
  },
  {
   "cell_type": "markdown",
   "id": "3817f3f7",
   "metadata": {},
   "source": [
    "### <span style=\"background-color:#fff5b1\"> 포지셔널 인코딩 </span> "
   ]
  },
  {
   "cell_type": "markdown",
   "id": "db5a577e",
   "metadata": {},
   "source": [
    "---\n",
    "\n",
    "# <span style=\"background-color:#E6E6FA\"> 1. 데이터 수집하기 </span>"
   ]
  },
  {
   "cell_type": "code",
   "execution_count": 2,
   "id": "3dcc75d8",
   "metadata": {},
   "outputs": [
    {
     "name": "stdout",
     "output_type": "stream",
     "text": [
      "11823\n"
     ]
    },
    {
     "data": {
      "text/html": [
       "<div>\n",
       "<style scoped>\n",
       "    .dataframe tbody tr th:only-of-type {\n",
       "        vertical-align: middle;\n",
       "    }\n",
       "\n",
       "    .dataframe tbody tr th {\n",
       "        vertical-align: top;\n",
       "    }\n",
       "\n",
       "    .dataframe thead th {\n",
       "        text-align: right;\n",
       "    }\n",
       "</style>\n",
       "<table border=\"1\" class=\"dataframe\">\n",
       "  <thead>\n",
       "    <tr style=\"text-align: right;\">\n",
       "      <th></th>\n",
       "      <th>Q</th>\n",
       "      <th>A</th>\n",
       "      <th>label</th>\n",
       "    </tr>\n",
       "  </thead>\n",
       "  <tbody>\n",
       "    <tr>\n",
       "      <th>0</th>\n",
       "      <td>12시 땡!</td>\n",
       "      <td>하루가 또 가네요.</td>\n",
       "      <td>0</td>\n",
       "    </tr>\n",
       "    <tr>\n",
       "      <th>1</th>\n",
       "      <td>1지망 학교 떨어졌어</td>\n",
       "      <td>위로해 드립니다.</td>\n",
       "      <td>0</td>\n",
       "    </tr>\n",
       "    <tr>\n",
       "      <th>2</th>\n",
       "      <td>3박4일 놀러가고 싶다</td>\n",
       "      <td>여행은 언제나 좋죠.</td>\n",
       "      <td>0</td>\n",
       "    </tr>\n",
       "    <tr>\n",
       "      <th>3</th>\n",
       "      <td>3박4일 정도 놀러가고 싶다</td>\n",
       "      <td>여행은 언제나 좋죠.</td>\n",
       "      <td>0</td>\n",
       "    </tr>\n",
       "    <tr>\n",
       "      <th>4</th>\n",
       "      <td>PPL 심하네</td>\n",
       "      <td>눈살이 찌푸려지죠.</td>\n",
       "      <td>0</td>\n",
       "    </tr>\n",
       "    <tr>\n",
       "      <th>...</th>\n",
       "      <td>...</td>\n",
       "      <td>...</td>\n",
       "      <td>...</td>\n",
       "    </tr>\n",
       "    <tr>\n",
       "      <th>11818</th>\n",
       "      <td>훔쳐보는 것도 눈치 보임.</td>\n",
       "      <td>티가 나니까 눈치가 보이는 거죠!</td>\n",
       "      <td>2</td>\n",
       "    </tr>\n",
       "    <tr>\n",
       "      <th>11819</th>\n",
       "      <td>훔쳐보는 것도 눈치 보임.</td>\n",
       "      <td>훔쳐보는 거 티나나봐요.</td>\n",
       "      <td>2</td>\n",
       "    </tr>\n",
       "    <tr>\n",
       "      <th>11820</th>\n",
       "      <td>흑기사 해주는 짝남.</td>\n",
       "      <td>설렜겠어요.</td>\n",
       "      <td>2</td>\n",
       "    </tr>\n",
       "    <tr>\n",
       "      <th>11821</th>\n",
       "      <td>힘든 연애 좋은 연애라는게 무슨 차이일까?</td>\n",
       "      <td>잘 헤어질 수 있는 사이 여부인 거 같아요.</td>\n",
       "      <td>2</td>\n",
       "    </tr>\n",
       "    <tr>\n",
       "      <th>11822</th>\n",
       "      <td>힘들어서 결혼할까봐</td>\n",
       "      <td>도피성 결혼은 하지 않길 바라요.</td>\n",
       "      <td>2</td>\n",
       "    </tr>\n",
       "  </tbody>\n",
       "</table>\n",
       "<p>11823 rows × 3 columns</p>\n",
       "</div>"
      ],
      "text/plain": [
       "                             Q                         A  label\n",
       "0                       12시 땡!                하루가 또 가네요.      0\n",
       "1                  1지망 학교 떨어졌어                 위로해 드립니다.      0\n",
       "2                 3박4일 놀러가고 싶다               여행은 언제나 좋죠.      0\n",
       "3              3박4일 정도 놀러가고 싶다               여행은 언제나 좋죠.      0\n",
       "4                      PPL 심하네                눈살이 찌푸려지죠.      0\n",
       "...                        ...                       ...    ...\n",
       "11818           훔쳐보는 것도 눈치 보임.        티가 나니까 눈치가 보이는 거죠!      2\n",
       "11819           훔쳐보는 것도 눈치 보임.             훔쳐보는 거 티나나봐요.      2\n",
       "11820              흑기사 해주는 짝남.                    설렜겠어요.      2\n",
       "11821  힘든 연애 좋은 연애라는게 무슨 차이일까?  잘 헤어질 수 있는 사이 여부인 거 같아요.      2\n",
       "11822               힘들어서 결혼할까봐        도피성 결혼은 하지 않길 바라요.      2\n",
       "\n",
       "[11823 rows x 3 columns]"
      ]
     },
     "execution_count": 2,
     "metadata": {},
     "output_type": "execute_result"
    }
   ],
   "source": [
    "data_path = '~/aiffel/transformer_chatbot/data/ChatbotData.csv'\n",
    "data = pd.read_csv(data_path)\n",
    "\n",
    "# 데이터 확인\n",
    "print(len(data))\n",
    "data"
   ]
  },
  {
   "cell_type": "markdown",
   "id": "da17c356",
   "metadata": {},
   "source": [
    "---\n",
    "\n",
    "# <span style=\"background-color:#E6E6FA\"> 2. 데이터 전처리하기 </span>"
   ]
  },
  {
   "cell_type": "code",
   "execution_count": 3,
   "id": "900f340c",
   "metadata": {},
   "outputs": [],
   "source": [
    "# 전처리 함수\n",
    "def preprocess_sentence(sentence):\n",
    "    # 입력받은 sentence를 소문자로 변경하고 양쪽 공백을 제거\n",
    "    sentence = sentence.lower().strip()\n",
    "\n",
    "    # 단어와 구두점(punctuation) 사이의 거리를 만듭니다.\n",
    "    # 예를 들어서 \"I am a student.\" => \"I am a student .\"와 같이\n",
    "    # student와 온점 사이에 거리를 만듭니다.\n",
    "    sentence = re.sub(r\"([?.!,])\", r\" \\1 \", sentence)\n",
    "    sentence = re.sub(r'[\" \"]+', \" \", sentence)\n",
    "\n",
    "    # 한글 전처리\n",
    "    sentence = re.sub(r'[^가-힣.,?!]+', ' ', sentence)\n",
    "    sentence = sentence.strip()\n",
    "    return sentence"
   ]
  },
  {
   "cell_type": "code",
   "execution_count": 4,
   "id": "555fc949",
   "metadata": {},
   "outputs": [
    {
     "name": "stdout",
     "output_type": "stream",
     "text": [
      "11823\n"
     ]
    }
   ],
   "source": [
    "# 사용할 샘플의 최대 개수\n",
    "MAX_SAMPLES = len(data)\n",
    "print(MAX_SAMPLES)"
   ]
  },
  {
   "cell_type": "code",
   "execution_count": 5,
   "id": "fb96adb3",
   "metadata": {},
   "outputs": [
    {
     "name": "stdout",
     "output_type": "stream",
     "text": [
      "Q\n"
     ]
    }
   ],
   "source": [
    "data_col = data.columns\n",
    "\n",
    "print(data_col[0])"
   ]
  },
  {
   "cell_type": "code",
   "execution_count": 6,
   "id": "d3fdf303",
   "metadata": {},
   "outputs": [],
   "source": [
    "# 질문과 답변의 쌍인 데이터셋을 구성하기 위한 데이터 로드 함수\n",
    "def load_conversations(data):\n",
    "\n",
    "    inputs, outputs = [], []\n",
    "    \n",
    "    for i in range(MAX_SAMPLES):\n",
    "        # 전처리 함수를 질문에 해당되는 inputs와 답변에 해당되는 outputs에 적용.\n",
    "        \n",
    "        inputs.append(preprocess_sentence(data['Q'].values[i]))\n",
    "        outputs.append(preprocess_sentence(data['A'].values[i]))\n",
    "\n",
    "    return inputs, outputs"
   ]
  },
  {
   "cell_type": "code",
   "execution_count": 7,
   "id": "d98a624c",
   "metadata": {},
   "outputs": [
    {
     "name": "stdout",
     "output_type": "stream",
     "text": [
      "전체 샘플 수 : 11823\n",
      "전체 샘플 수 : 11823\n"
     ]
    }
   ],
   "source": [
    "questions, answers = load_conversations(data)\n",
    "print('전체 샘플 수 :', len(questions))\n",
    "print('전체 샘플 수 :', len(answers))"
   ]
  },
  {
   "cell_type": "code",
   "execution_count": 8,
   "id": "b4a75247",
   "metadata": {},
   "outputs": [
    {
     "name": "stdout",
     "output_type": "stream",
     "text": [
      "전처리 후의 6871번째 질문 샘플:  아직도 헷갈리네\n",
      "전처리 후의 6871번째 답변 샘플:  직감을 믿으세요 .\n"
     ]
    }
   ],
   "source": [
    "rand_num = random.randint(1, MAX_SAMPLES)\n",
    "\n",
    "print(f'전처리 후의 {rand_num}번째 질문 샘플: ',questions[rand_num])\n",
    "print(f'전처리 후의 {rand_num}번째 답변 샘플: ',answers[rand_num])"
   ]
  },
  {
   "cell_type": "markdown",
   "id": "96f887c8",
   "metadata": {},
   "source": [
    "---\n",
    "\n",
    "# <span style=\"background-color:#E6E6FA\"> 3. SubwordTextEncoder 사용하기 </span>"
   ]
  },
  {
   "cell_type": "code",
   "execution_count": 9,
   "id": "0b214c4a",
   "metadata": {},
   "outputs": [],
   "source": [
    "import tensorflow_datasets as tfds\n",
    "\n",
    "# 질문과 답변 데이터셋에 대해서 Vocabulary 생성\n",
    "tokenizer = tfds.deprecated.text.SubwordTextEncoder.build_from_corpus(questions + answers, target_vocab_size=2**13)"
   ]
  },
  {
   "cell_type": "code",
   "execution_count": 10,
   "id": "6dabfbd4",
   "metadata": {},
   "outputs": [],
   "source": [
    "START_TOKEN, END_TOKEN = [tokenizer.vocab_size], [tokenizer.vocab_size + 1]"
   ]
  },
  {
   "cell_type": "code",
   "execution_count": 11,
   "id": "5d30419d",
   "metadata": {},
   "outputs": [
    {
     "name": "stdout",
     "output_type": "stream",
     "text": [
      "START_TOKEN의 번호 : [8127]\n",
      "END_TOKEN의 번호 : [8128]\n"
     ]
    }
   ],
   "source": [
    "print('START_TOKEN의 번호 :' ,[tokenizer.vocab_size])\n",
    "print('END_TOKEN의 번호 :' ,[tokenizer.vocab_size + 1])"
   ]
  },
  {
   "cell_type": "code",
   "execution_count": 12,
   "id": "5ec96376",
   "metadata": {},
   "outputs": [
    {
     "name": "stdout",
     "output_type": "stream",
     "text": [
      "8129\n"
     ]
    }
   ],
   "source": [
    "# 시작 토큰과 종료 토큰을 고려하여 +2를 하여 단어장의 크기를 산정합니다.\n",
    "VOCAB_SIZE = tokenizer.vocab_size + 2\n",
    "print(VOCAB_SIZE)"
   ]
  },
  {
   "cell_type": "code",
   "execution_count": 13,
   "id": "fe9a33e6",
   "metadata": {},
   "outputs": [
    {
     "name": "stdout",
     "output_type": "stream",
     "text": [
      "정수 인코딩 후의 4761번째 질문 샘플:  [5742, 612, 2481, 4148]\n",
      "정수 인코딩 후의 4761번째 답변 샘플:  [2352, 7481, 7, 6245, 97, 1]\n"
     ]
    }
   ],
   "source": [
    "rand_num = random.randint(1, MAX_SAMPLES)\n",
    "\n",
    "# 각 토큰을 고유한 정수로 변환\n",
    "print(f'정수 인코딩 후의 {rand_num}번째 질문 샘플: ',tokenizer.encode(questions[21]))\n",
    "print(f'정수 인코딩 후의 {rand_num}번째 답변 샘플: ',tokenizer.encode(answers[21]))"
   ]
  },
  {
   "cell_type": "code",
   "execution_count": 14,
   "id": "efb3afc2",
   "metadata": {},
   "outputs": [
    {
     "name": "stdout",
     "output_type": "stream",
     "text": [
      "40\n"
     ]
    }
   ],
   "source": [
    "# 샘플의 최대 허용 길이 또는 패딩 후의 최종 길이\n",
    "MAX_LENGTH = 40\n",
    "print(MAX_LENGTH)"
   ]
  },
  {
   "cell_type": "code",
   "execution_count": 15,
   "id": "872739b4",
   "metadata": {},
   "outputs": [],
   "source": [
    "# 정수 인코딩, 최대 길이를 초과하는 샘플 제거, 패딩\n",
    "def tokenize_and_filter(inputs, outputs):\n",
    "    tokenized_inputs, tokenized_outputs = [], []\n",
    "    \n",
    "    for (sentence1, sentence2) in zip(inputs, outputs):\n",
    "        # 정수 인코딩 과정에서 시작 토큰과 종료 토큰을 추가\n",
    "        sentence1 = START_TOKEN + tokenizer.encode(sentence1) + END_TOKEN\n",
    "        sentence2 = START_TOKEN + tokenizer.encode(sentence2) + END_TOKEN\n",
    "        \n",
    "        # 최대 길이 40 이하인 경우에만 데이터셋으로 허용\n",
    "        if len(sentence1) <= MAX_LENGTH and len(sentence2) <= MAX_LENGTH:\n",
    "            tokenized_inputs.append(sentence1)\n",
    "            tokenized_outputs.append(sentence2)\n",
    "\n",
    "    # 최대 길이 40으로 모든 데이터셋을 패딩\n",
    "    tokenized_inputs = tf.keras.preprocessing.sequence.pad_sequences(\n",
    "      tokenized_inputs, maxlen=MAX_LENGTH, padding='post')\n",
    "    tokenized_outputs = tf.keras.preprocessing.sequence.pad_sequences(\n",
    "      tokenized_outputs, maxlen=MAX_LENGTH, padding='post')\n",
    "\n",
    "    return tokenized_inputs, tokenized_outputs"
   ]
  },
  {
   "cell_type": "code",
   "execution_count": 16,
   "id": "662538af",
   "metadata": {},
   "outputs": [
    {
     "name": "stdout",
     "output_type": "stream",
     "text": [
      "단어장의 크기 : 8129\n",
      "필터링 후의 질문 샘플 개수: 11823\n",
      "필터링 후의 답변 샘플 개수: 11823\n"
     ]
    }
   ],
   "source": [
    "t_questions, t_answers = tokenize_and_filter(questions, answers)\n",
    "\n",
    "print('단어장의 크기 :',(VOCAB_SIZE))\n",
    "print('필터링 후의 질문 샘플 개수: {}'.format(len(t_questions)))\n",
    "print('필터링 후의 답변 샘플 개수: {}'.format(len(t_answers)))"
   ]
  },
  {
   "cell_type": "markdown",
   "id": "6cb3978d",
   "metadata": {},
   "source": [
    "교사강요"
   ]
  },
  {
   "cell_type": "code",
   "execution_count": 17,
   "id": "4e4a4416",
   "metadata": {},
   "outputs": [],
   "source": [
    "BATCH_SIZE = 64\n",
    "BUFFER_SIZE = 20000\n",
    "\n",
    "# 디코더는 이전의 target을 다음의 input으로 사용합니다.\n",
    "# 이에 따라 outputs에서는 START_TOKEN을 제거하겠습니다.\n",
    "dataset = tf.data.Dataset.from_tensor_slices((\n",
    "    {\n",
    "        'inputs': t_questions,\n",
    "        'dec_inputs': t_answers[:, :-1]\n",
    "    },\n",
    "    {\n",
    "        'outputs': t_answers[:, 1:]\n",
    "    },\n",
    "))\n",
    "\n",
    "dataset = dataset.cache()\n",
    "dataset = dataset.shuffle(BUFFER_SIZE)\n",
    "dataset = dataset.batch(BATCH_SIZE)\n",
    "dataset = dataset.prefetch(tf.data.experimental.AUTOTUNE)"
   ]
  },
  {
   "cell_type": "markdown",
   "id": "5b10c6c9",
   "metadata": {},
   "source": [
    "---\n",
    "\n",
    "# <span style=\"background-color:#E6E6FA\"> 4. 모델 구성하기 </span>"
   ]
  },
  {
   "cell_type": "code",
   "execution_count": 18,
   "id": "66fd33cf",
   "metadata": {},
   "outputs": [],
   "source": [
    "# 포지셔널 인코딩 레이어\n",
    "class PositionalEncoding(tf.keras.layers.Layer):\n",
    "    def __init__(self, position, d_model):\n",
    "        super(PositionalEncoding, self).__init__()\n",
    "        self.pos_encoding = self.positional_encoding(position, d_model)\n",
    "\n",
    "    def get_angles(self, position, i, d_model):\n",
    "        angles = 1 / tf.pow(10000, (2 * (i // 2)) / tf.cast(d_model, tf.float32))\n",
    "        return position * angles\n",
    "\n",
    "    def positional_encoding(self, position, d_model):\n",
    "        # 각도 배열 생성\n",
    "        angle_rads = self.get_angles(\n",
    "            position=tf.range(position, dtype=tf.float32)[:, tf.newaxis],\n",
    "            i=tf.range(d_model, dtype=tf.float32)[tf.newaxis, :],\n",
    "            d_model=d_model)\n",
    "\n",
    "        # 배열의 짝수 인덱스에는 sin 함수 적용\n",
    "        sines = tf.math.sin(angle_rads[:, 0::2])\n",
    "        # 배열의 홀수 인덱스에는 cosine 함수 적용\n",
    "        cosines = tf.math.cos(angle_rads[:, 1::2])\n",
    "\n",
    "        # sin과 cosine이 교차되도록 재배열\n",
    "        pos_encoding = tf.stack([sines, cosines], axis=0)\n",
    "        pos_encoding = tf.transpose(pos_encoding,[1, 2, 0]) \n",
    "        pos_encoding = tf.reshape(pos_encoding, [position, d_model])\n",
    "\n",
    "        pos_encoding = pos_encoding[tf.newaxis, ...]\n",
    "        return tf.cast(pos_encoding, tf.float32)\n",
    "\n",
    "    def call(self, inputs):\n",
    "        return inputs + self.pos_encoding[:, :tf.shape(inputs)[1], :]"
   ]
  },
  {
   "cell_type": "code",
   "execution_count": 19,
   "id": "03195486",
   "metadata": {},
   "outputs": [
    {
     "data": {
      "image/png": "[encoded data removed]",
      "text/plain": [
       "<Figure size 432x288 with 2 Axes>"
      ]
     },
     "metadata": {
      "needs_background": "light"
     },
     "output_type": "display_data"
    }
   ],
   "source": [
    "sample_pos_encoding = PositionalEncoding(50,512)\n",
    "\n",
    "plt.pcolormesh(sample_pos_encoding.pos_encoding.numpy()[0], cmap='RdBu')\n",
    "plt.xlabel('Depth')\n",
    "plt.xlim((0, 512))\n",
    "plt.ylabel('Position')\n",
    "plt.colorbar()\n",
    "plt.show()"
   ]
  },
  {
   "cell_type": "markdown",
   "id": "26306428",
   "metadata": {},
   "source": [
    "### <span style=\"background-color:#fff5b1\"> 어텐션 함수 </span> "
   ]
  },
  {
   "cell_type": "code",
   "execution_count": 20,
   "id": "07f8c541",
   "metadata": {},
   "outputs": [],
   "source": [
    "# 스케일드 닷 프로덕트 어텐션 함수\n",
    "def scaled_dot_product_attention(query, key, value, mask):\n",
    "    # 어텐션 가중치는 Q와 K의 닷 프로덕트\n",
    "    matmul_qk = tf.matmul(query, key, transpose_b=True)\n",
    "\n",
    "    # 가중치를 정규화\n",
    "    depth = tf.cast(tf.shape(key)[-1], tf.float32)\n",
    "    logits = matmul_qk / tf.math.sqrt(depth)\n",
    "\n",
    "    # 패딩에 마스크 추가\n",
    "    if mask is not None:\n",
    "        logits += (mask * -1e9)\n",
    "\n",
    "    # softmax적용\n",
    "    attention_weights = tf.nn.softmax(logits, axis=-1)\n",
    "\n",
    "    # 최종 어텐션은 가중치와 V의 닷 프로덕트\n",
    "    output = tf.matmul(attention_weights, value)\n",
    "    return output"
   ]
  },
  {
   "cell_type": "markdown",
   "id": "afe58a3d",
   "metadata": {},
   "source": [
    "### <span style=\"background-color:#fff5b1\"> 멀티 헤드 어텐션 </span>"
   ]
  },
  {
   "cell_type": "code",
   "execution_count": 21,
   "id": "ac89642b",
   "metadata": {},
   "outputs": [],
   "source": [
    "class MultiHeadAttention(tf.keras.layers.Layer):\n",
    "\n",
    "    def __init__(self, d_model, num_heads, name=\"multi_head_attention\"):\n",
    "        super(MultiHeadAttention, self).__init__(name=name)\n",
    "        self.num_heads = num_heads\n",
    "        self.d_model = d_model\n",
    "\n",
    "        assert d_model % self.num_heads == 0\n",
    "\n",
    "        self.depth = d_model // self.num_heads\n",
    "\n",
    "        self.query_dense = tf.keras.layers.Dense(units=d_model)\n",
    "        self.key_dense = tf.keras.layers.Dense(units=d_model)\n",
    "        self.value_dense = tf.keras.layers.Dense(units=d_model)\n",
    "\n",
    "        self.dense = tf.keras.layers.Dense(units=d_model)\n",
    "\n",
    "    def split_heads(self, inputs, batch_size):\n",
    "        inputs = tf.reshape(\n",
    "            inputs, shape=(batch_size, -1, self.num_heads, self.depth))\n",
    "        return tf.transpose(inputs, perm=[0, 2, 1, 3])\n",
    "\n",
    "    def call(self, inputs):\n",
    "        query, key, value, mask = inputs['query'], inputs['key'], inputs[\n",
    "            'value'], inputs['mask']\n",
    "        batch_size = tf.shape(query)[0]\n",
    "\n",
    "        # Q, K, V에 각각 Dense를 적용합니다\n",
    "        query = self.query_dense(query)\n",
    "        key = self.key_dense(key)\n",
    "        value = self.value_dense(value)\n",
    "\n",
    "        # 병렬 연산을 위한 머리를 여러 개 만듭니다\n",
    "        query = self.split_heads(query, batch_size)\n",
    "        key = self.split_heads(key, batch_size)\n",
    "        value = self.split_heads(value, batch_size)\n",
    "\n",
    "        # 스케일드 닷 프로덕트 어텐션 함수\n",
    "        scaled_attention = scaled_dot_product_attention(query, key, value, mask)\n",
    "\n",
    "        scaled_attention = tf.transpose(scaled_attention, perm=[0, 2, 1, 3])\n",
    "\n",
    "        # 어텐션 연산 후에 각 결과를 다시 연결(concatenate)합니다\n",
    "        concat_attention = tf.reshape(scaled_attention,\n",
    "                                      (batch_size, -1, self.d_model))\n",
    "\n",
    "        # 최종 결과에도 Dense를 한 번 더 적용합니다\n",
    "        outputs = self.dense(concat_attention)\n",
    "\n",
    "        return outputs"
   ]
  },
  {
   "cell_type": "markdown",
   "id": "66ba8892",
   "metadata": {},
   "source": [
    "### <span style=\"background-color:#fff5b1\"> 패딩 마스킹 </span>"
   ]
  },
  {
   "cell_type": "code",
   "execution_count": 22,
   "id": "5a028e66",
   "metadata": {},
   "outputs": [],
   "source": [
    "def create_padding_mask(x):\n",
    "    mask = tf.cast(tf.math.equal(x, 0), tf.float32)\n",
    "    # (batch_size, 1, 1, sequence length)\n",
    "    return mask[:, tf.newaxis, tf.newaxis, :]"
   ]
  },
  {
   "cell_type": "code",
   "execution_count": 23,
   "id": "e9282a09",
   "metadata": {},
   "outputs": [
    {
     "name": "stdout",
     "output_type": "stream",
     "text": [
      "tf.Tensor(\n",
      "[[[[0. 0. 1. 0. 1.]]]\n",
      "\n",
      "\n",
      " [[[1. 1. 1. 0. 0.]]]], shape=(2, 1, 1, 5), dtype=float32)\n"
     ]
    }
   ],
   "source": [
    "print(create_padding_mask(tf.constant([[1, 2, 0, 3, 0], [0, 0, 0, 4, 5]])))"
   ]
  },
  {
   "cell_type": "code",
   "execution_count": 24,
   "id": "0d01888d",
   "metadata": {},
   "outputs": [
    {
     "name": "stdout",
     "output_type": "stream",
     "text": [
      "슝=3\n"
     ]
    }
   ],
   "source": [
    "def create_look_ahead_mask(x):\n",
    "    seq_len = tf.shape(x)[1]\n",
    "    look_ahead_mask = 1 - tf.linalg.band_part(tf.ones((seq_len, seq_len)), -1, 0)\n",
    "    padding_mask = create_padding_mask(x)\n",
    "    return tf.maximum(look_ahead_mask, padding_mask)\n",
    "print(\"슝=3\")"
   ]
  },
  {
   "cell_type": "markdown",
   "id": "93147543",
   "metadata": {},
   "source": [
    "### <span style=\"background-color:#fff5b1\"> encoder </span>"
   ]
  },
  {
   "cell_type": "code",
   "execution_count": 25,
   "id": "605567c6",
   "metadata": {},
   "outputs": [],
   "source": [
    "# 인코더 하나의 레이어를 함수로 구현.\n",
    "# 이 하나의 레이어 안에는 두 개의 서브 레이어가 존재합니다.\n",
    "def encoder_layer(units, d_model, num_heads, dropout, name=\"encoder_layer\"):\n",
    "    inputs = tf.keras.Input(shape=(None, d_model), name=\"inputs\")\n",
    "\n",
    "    # 패딩 마스크 사용\n",
    "    padding_mask = tf.keras.Input(shape=(1, 1, None), name=\"padding_mask\")\n",
    "\n",
    "    # 첫 번째 서브 레이어 : 멀티 헤드 어텐션 수행 (셀프 어텐션)\n",
    "    attention = MultiHeadAttention(\n",
    "      d_model, num_heads, name=\"attention\")({\n",
    "          'query': inputs,\n",
    "          'key': inputs,\n",
    "          'value': inputs,\n",
    "          'mask': padding_mask\n",
    "      })\n",
    "\n",
    "    # 어텐션의 결과는 Dropout과 Layer Normalization이라는 훈련을 돕는 테크닉을 수행\n",
    "    attention = tf.keras.layers.Dropout(rate=dropout)(attention)\n",
    "    attention = tf.keras.layers.LayerNormalization(epsilon=1e-6)(inputs + attention)\n",
    "\n",
    "    # 두 번째 서브 레이어 : 2개의 완전연결층\n",
    "    outputs = tf.keras.layers.Dense(units=units, activation='relu')(attention)\n",
    "    outputs = tf.keras.layers.Dense(units=d_model)(outputs)\n",
    "\n",
    "    # 완전연결층의 결과는 Dropout과 LayerNormalization이라는 훈련을 돕는 테크닉을 수행\n",
    "    outputs = tf.keras.layers.Dropout(rate=dropout)(outputs)\n",
    "    outputs = tf.keras.layers.LayerNormalization(epsilon=1e-6)(attention + outputs)\n",
    "\n",
    "    return tf.keras.Model(inputs=[inputs, padding_mask], outputs=outputs, name=name)"
   ]
  },
  {
   "cell_type": "code",
   "execution_count": 26,
   "id": "0d8e5d5f",
   "metadata": {},
   "outputs": [],
   "source": [
    "def encoder(vocab_size,\n",
    "            num_layers,\n",
    "            units,\n",
    "            d_model,\n",
    "            num_heads,\n",
    "            dropout,\n",
    "            name=\"encoder\"):\n",
    "    inputs = tf.keras.Input(shape=(None,), name=\"inputs\")\n",
    "\n",
    "    # 패딩 마스크 사용\n",
    "    padding_mask = tf.keras.Input(shape=(1, 1, None), name=\"padding_mask\")\n",
    "\n",
    "    # 임베딩 레이어\n",
    "    embeddings = tf.keras.layers.Embedding(vocab_size, d_model)(inputs)\n",
    "    embeddings *= tf.math.sqrt(tf.cast(d_model, tf.float32))\n",
    "\n",
    "    # 포지셔널 인코딩\n",
    "    embeddings = PositionalEncoding(vocab_size, d_model)(embeddings)\n",
    "\n",
    "    outputs = tf.keras.layers.Dropout(rate=dropout)(embeddings)\n",
    "\n",
    "    # num_layers만큼 쌓아올린 인코더의 층.\n",
    "    for i in range(num_layers):\n",
    "        outputs = encoder_layer(\n",
    "            units=units,\n",
    "            d_model=d_model,\n",
    "            num_heads=num_heads,\n",
    "            dropout=dropout,\n",
    "            name=\"encoder_layer_{}\".format(i),\n",
    "        )([outputs, padding_mask])\n",
    "\n",
    "    return tf.keras.Model(\n",
    "      inputs=[inputs, padding_mask], outputs=outputs, name=name)"
   ]
  },
  {
   "cell_type": "markdown",
   "id": "f44498fd",
   "metadata": {},
   "source": [
    "### <span style=\"background-color:#fff5b1\"> decoder </span>"
   ]
  },
  {
   "cell_type": "code",
   "execution_count": 27,
   "id": "2afd944b",
   "metadata": {},
   "outputs": [],
   "source": [
    "def decoder_layer(units, d_model, num_heads, dropout, name=\"decoder_layer\"):\n",
    "    inputs = tf.keras.Input(shape=(None, d_model), name=\"inputs\")\n",
    "    enc_outputs = tf.keras.Input(shape=(None, d_model), name=\"encoder_outputs\")\n",
    "    look_ahead_mask = tf.keras.Input(\n",
    "      shape=(1, None, None), name=\"look_ahead_mask\")\n",
    "    padding_mask = tf.keras.Input(shape=(1, 1, None), name='padding_mask')\n",
    "\n",
    "    # 첫 번째 서브 레이어 : 멀티 헤드 어텐션 수행 (셀프 어텐션)\n",
    "    attention1 = MultiHeadAttention(\n",
    "      d_model, num_heads, name=\"attention_1\")(inputs={\n",
    "          'query': inputs,\n",
    "          'key': inputs,\n",
    "          'value': inputs,\n",
    "          'mask': look_ahead_mask\n",
    "      })\n",
    "\n",
    "    # 멀티 헤드 어텐션의 결과는 LayerNormalization이라는 훈련을 돕는 테크닉을 수행\n",
    "    attention1 = tf.keras.layers.LayerNormalization(\n",
    "      epsilon=1e-6)(attention1 + inputs)\n",
    "\n",
    "    # 두 번째 서브 레이어 : 마스크드 멀티 헤드 어텐션 수행 (인코더-디코더 어텐션)\n",
    "    attention2 = MultiHeadAttention(\n",
    "      d_model, num_heads, name=\"attention_2\")(inputs={\n",
    "          'query': attention1,\n",
    "          'key': enc_outputs,\n",
    "          'value': enc_outputs,\n",
    "          'mask': padding_mask\n",
    "      })\n",
    "\n",
    "    # 마스크드 멀티 헤드 어텐션의 결과는\n",
    "    # Dropout과 LayerNormalization이라는 훈련을 돕는 테크닉을 수행\n",
    "    attention2 = tf.keras.layers.Dropout(rate=dropout)(attention2)\n",
    "    attention2 = tf.keras.layers.LayerNormalization(\n",
    "      epsilon=1e-6)(attention2 + attention1)\n",
    "\n",
    "    # 세 번째 서브 레이어 : 2개의 완전연결층\n",
    "    outputs = tf.keras.layers.Dense(units=units, activation='relu')(attention2)\n",
    "    outputs = tf.keras.layers.Dense(units=d_model)(outputs)\n",
    "\n",
    "    # 완전연결층의 결과는 Dropout과 LayerNormalization 수행\n",
    "    outputs = tf.keras.layers.Dropout(rate=dropout)(outputs)\n",
    "    outputs = tf.keras.layers.LayerNormalization(\n",
    "      epsilon=1e-6)(outputs + attention2)\n",
    "\n",
    "    return tf.keras.Model(\n",
    "      inputs=[inputs, enc_outputs, look_ahead_mask, padding_mask],\n",
    "      outputs=outputs,\n",
    "      name=name)"
   ]
  },
  {
   "cell_type": "code",
   "execution_count": 28,
   "id": "3b69a1ee",
   "metadata": {},
   "outputs": [],
   "source": [
    "def decoder(vocab_size,\n",
    "            num_layers,\n",
    "            units,\n",
    "            d_model,\n",
    "            num_heads,\n",
    "            dropout,\n",
    "            name='decoder'):\n",
    "    inputs = tf.keras.Input(shape=(None,), name='inputs')\n",
    "    enc_outputs = tf.keras.Input(shape=(None, d_model), name='encoder_outputs')\n",
    "    look_ahead_mask = tf.keras.Input(\n",
    "      shape=(1, None, None), name='look_ahead_mask')\n",
    "\n",
    "    # 패딩 마스크\n",
    "    padding_mask = tf.keras.Input(shape=(1, 1, None), name='padding_mask')\n",
    "\n",
    "    # 임베딩 레이어\n",
    "    embeddings = tf.keras.layers.Embedding(vocab_size, d_model)(inputs)\n",
    "    embeddings *= tf.math.sqrt(tf.cast(d_model, tf.float32))\n",
    "\n",
    "    # 포지셔널 인코딩\n",
    "    embeddings = PositionalEncoding(vocab_size, d_model)(embeddings)\n",
    "\n",
    "    # Dropout이라는 훈련을 돕는 테크닉을 수행\n",
    "    outputs = tf.keras.layers.Dropout(rate=dropout)(embeddings)\n",
    "\n",
    "    for i in range(num_layers):\n",
    "        outputs = decoder_layer(\n",
    "            units=units,\n",
    "            d_model=d_model,\n",
    "            num_heads=num_heads,\n",
    "            dropout=dropout,\n",
    "            name='decoder_layer_{}'.format(i),\n",
    "        )(inputs=[outputs, enc_outputs, look_ahead_mask, padding_mask])\n",
    "\n",
    "    return tf.keras.Model(\n",
    "      inputs=[inputs, enc_outputs, look_ahead_mask, padding_mask],\n",
    "      outputs=outputs,\n",
    "      name=name)"
   ]
  },
  {
   "cell_type": "code",
   "execution_count": 29,
   "id": "99bd9fb2",
   "metadata": {},
   "outputs": [],
   "source": [
    "def transformer(vocab_size,\n",
    "                num_layers,\n",
    "                units,\n",
    "                d_model,\n",
    "                num_heads,\n",
    "                dropout,\n",
    "                name=\"transformer\"):\n",
    "    inputs = tf.keras.Input(shape=(None,), name=\"inputs\")\n",
    "    dec_inputs = tf.keras.Input(shape=(None,), name=\"dec_inputs\")\n",
    "\n",
    "    # 인코더에서 패딩을 위한 마스크\n",
    "    enc_padding_mask = tf.keras.layers.Lambda(\n",
    "      create_padding_mask, output_shape=(1, 1, None),\n",
    "      name='enc_padding_mask')(inputs)\n",
    "\n",
    "    # 디코더에서 미래의 토큰을 마스크 하기 위해서 사용합니다.\n",
    "    # 내부적으로 패딩 마스크도 포함되어져 있습니다.\n",
    "    look_ahead_mask = tf.keras.layers.Lambda(\n",
    "      create_look_ahead_mask,\n",
    "      output_shape=(1, None, None),\n",
    "      name='look_ahead_mask')(dec_inputs)\n",
    "\n",
    "    # 두 번째 어텐션 블록에서 인코더의 벡터들을 마스킹\n",
    "    # 디코더에서 패딩을 위한 마스크\n",
    "    dec_padding_mask = tf.keras.layers.Lambda(\n",
    "      create_padding_mask, output_shape=(1, 1, None),\n",
    "      name='dec_padding_mask')(inputs)\n",
    "\n",
    "    # 인코더\n",
    "    enc_outputs = encoder(\n",
    "      vocab_size=vocab_size,\n",
    "      num_layers=num_layers,\n",
    "      units=units,\n",
    "      d_model=d_model,\n",
    "      num_heads=num_heads,\n",
    "      dropout=dropout,\n",
    "    )(inputs=[inputs, enc_padding_mask])\n",
    "\n",
    "    # 디코더\n",
    "    dec_outputs = decoder(\n",
    "      vocab_size=vocab_size,\n",
    "      num_layers=num_layers,\n",
    "      units=units,\n",
    "      d_model=d_model,\n",
    "      num_heads=num_heads,\n",
    "      dropout=dropout,\n",
    "    )(inputs=[dec_inputs, enc_outputs, look_ahead_mask, dec_padding_mask])\n",
    "\n",
    "    # 완전연결층\n",
    "    outputs = tf.keras.layers.Dense(units=vocab_size, name=\"outputs\")(dec_outputs)\n",
    "\n",
    "    return tf.keras.Model(inputs=[inputs, dec_inputs], outputs=outputs, name=name)"
   ]
  },
  {
   "cell_type": "code",
   "execution_count": 30,
   "id": "9506cf1a",
   "metadata": {},
   "outputs": [
    {
     "name": "stdout",
     "output_type": "stream",
     "text": [
      "Model: \"transformer\"\n",
      "__________________________________________________________________________________________________\n",
      "Layer (type)                    Output Shape         Param #     Connected to                     \n",
      "==================================================================================================\n",
      "inputs (InputLayer)             [(None, None)]       0                                            \n",
      "__________________________________________________________________________________________________\n",
      "dec_inputs (InputLayer)         [(None, None)]       0                                            \n",
      "__________________________________________________________________________________________________\n",
      "enc_padding_mask (Lambda)       (None, 1, 1, None)   0           inputs[0][0]                     \n",
      "__________________________________________________________________________________________________\n",
      "encoder (Functional)            (None, None, 512)    12573184    inputs[0][0]                     \n",
      "                                                                 enc_padding_mask[0][0]           \n",
      "__________________________________________________________________________________________________\n",
      "look_ahead_mask (Lambda)        (None, 1, None, None 0           dec_inputs[0][0]                 \n",
      "__________________________________________________________________________________________________\n",
      "dec_padding_mask (Lambda)       (None, 1, 1, None)   0           inputs[0][0]                     \n",
      "__________________________________________________________________________________________________\n",
      "decoder (Functional)            (None, None, 512)    16779776    dec_inputs[0][0]                 \n",
      "                                                                 encoder[0][0]                    \n",
      "                                                                 look_ahead_mask[0][0]            \n",
      "                                                                 dec_padding_mask[0][0]           \n",
      "__________________________________________________________________________________________________\n",
      "outputs (Dense)                 (None, None, 8129)   4170177     decoder[0][0]                    \n",
      "==================================================================================================\n",
      "Total params: 33,523,137\n",
      "Trainable params: 33,523,137\n",
      "Non-trainable params: 0\n",
      "__________________________________________________________________________________________________\n"
     ]
    }
   ],
   "source": [
    "tf.keras.backend.clear_session()\n",
    "\n",
    "# 하이퍼파라미터\n",
    "NUM_LAYERS = 4 # 인코더와 디코더의 층의 개수\n",
    "D_MODEL = 512 # 인코더와 디코더 내부의 입, 출력의 고정 차원\n",
    "NUM_HEADS = 16 # 멀티 헤드 어텐션에서의 헤드 수 \n",
    "UNITS = 1024 # 피드 포워드 신경망의 은닉층의 크기\n",
    "DROPOUT = 0.2 # 드롭아웃의 비율\n",
    "\n",
    "model = transformer(\n",
    "    vocab_size=VOCAB_SIZE,\n",
    "    num_layers=NUM_LAYERS,\n",
    "    units=UNITS,\n",
    "    d_model=D_MODEL,\n",
    "    num_heads=NUM_HEADS,\n",
    "    dropout=DROPOUT)\n",
    "\n",
    "model.summary()"
   ]
  },
  {
   "cell_type": "code",
   "execution_count": 31,
   "id": "d6166706",
   "metadata": {},
   "outputs": [],
   "source": [
    "def loss_function(y_true, y_pred):\n",
    "    y_true = tf.reshape(y_true, shape=(-1, MAX_LENGTH - 1))\n",
    "\n",
    "    loss = tf.keras.losses.SparseCategoricalCrossentropy(\n",
    "      from_logits=True, reduction='none')(y_true, y_pred)\n",
    "\n",
    "    mask = tf.cast(tf.not_equal(y_true, 0), tf.float32)\n",
    "    loss = tf.multiply(loss, mask)\n",
    "\n",
    "    return tf.reduce_mean(loss)\n"
   ]
  },
  {
   "cell_type": "code",
   "execution_count": 32,
   "id": "2ec6a5ee",
   "metadata": {},
   "outputs": [],
   "source": [
    "class CustomSchedule(tf.keras.optimizers.schedules.LearningRateSchedule):\n",
    "\n",
    "    def __init__(self, d_model, warmup_steps=4000):\n",
    "        super(CustomSchedule, self).__init__()\n",
    "\n",
    "        self.d_model = d_model\n",
    "        self.d_model = tf.cast(self.d_model, tf.float32)\n",
    "\n",
    "        self.warmup_steps = warmup_steps\n",
    "\n",
    "    def __call__(self, step):\n",
    "        arg1 = tf.math.rsqrt(step)\n",
    "        arg2 = step * (self.warmup_steps**-1.5)\n",
    "\n",
    "        return tf.math.rsqrt(self.d_model) * tf.math.minimum(arg1, arg2)"
   ]
  },
  {
   "cell_type": "code",
   "execution_count": 33,
   "id": "2dde07f7",
   "metadata": {},
   "outputs": [
    {
     "data": {
      "text/plain": [
       "Text(0.5, 0, 'Train Step')"
      ]
     },
     "execution_count": 33,
     "metadata": {},
     "output_type": "execute_result"
    },
    {
     "data": {
      "image/png": "[encoded data removed]",
      "text/plain": [
       "<Figure size 432x288 with 1 Axes>"
      ]
     },
     "metadata": {
      "needs_background": "light"
     },
     "output_type": "display_data"
    }
   ],
   "source": [
    "sample_learning_rate = CustomSchedule(d_model=128)\n",
    "\n",
    "plt.plot(sample_learning_rate(tf.range(200000, dtype=tf.float32)))\n",
    "plt.ylabel(\"Learning Rate\")\n",
    "plt.xlabel(\"Train Step\")"
   ]
  },
  {
   "cell_type": "code",
   "execution_count": 34,
   "id": "2737a2c6",
   "metadata": {},
   "outputs": [],
   "source": [
    "learning_rate = CustomSchedule(D_MODEL)\n",
    "\n",
    "optimizer = tf.keras.optimizers.Adam(\n",
    "    learning_rate, beta_1=0.9, beta_2=0.98, epsilon=1e-9)\n",
    "\n",
    "def accuracy(y_true, y_pred):\n",
    "    y_true = tf.reshape(y_true, shape=(-1, MAX_LENGTH - 1))\n",
    "    return tf.keras.metrics.sparse_categorical_accuracy(y_true, y_pred)\n",
    "\n",
    "model.compile(optimizer=optimizer, loss=loss_function, metrics=[accuracy])"
   ]
  },
  {
   "cell_type": "code",
   "execution_count": 35,
   "id": "dd637235",
   "metadata": {},
   "outputs": [
    {
     "name": "stdout",
     "output_type": "stream",
     "text": [
      "Epoch 1/100\n",
      "185/185 [==============================] - 46s 183ms/step - loss: 1.3460 - accuracy: 0.0243\n",
      "Epoch 2/100\n",
      "185/185 [==============================] - 34s 184ms/step - loss: 1.0695 - accuracy: 0.0496\n",
      "Epoch 3/100\n",
      "185/185 [==============================] - 34s 182ms/step - loss: 0.9821 - accuracy: 0.0511\n",
      "Epoch 4/100\n",
      "185/185 [==============================] - 34s 182ms/step - loss: 0.9339 - accuracy: 0.0539\n",
      "Epoch 5/100\n",
      "185/185 [==============================] - 34s 182ms/step - loss: 0.8901 - accuracy: 0.0564\n",
      "Epoch 6/100\n",
      "185/185 [==============================] - 34s 182ms/step - loss: 0.8429 - accuracy: 0.0590\n",
      "Epoch 7/100\n",
      "185/185 [==============================] - 34s 182ms/step - loss: 0.7898 - accuracy: 0.0626\n",
      "Epoch 8/100\n",
      "185/185 [==============================] - 34s 182ms/step - loss: 0.7290 - accuracy: 0.0677\n",
      "Epoch 9/100\n",
      "185/185 [==============================] - 34s 182ms/step - loss: 0.6654 - accuracy: 0.0738\n",
      "Epoch 10/100\n",
      "185/185 [==============================] - 34s 182ms/step - loss: 0.5995 - accuracy: 0.0810\n",
      "Epoch 11/100\n",
      "185/185 [==============================] - 34s 182ms/step - loss: 0.5345 - accuracy: 0.0886\n",
      "Epoch 12/100\n",
      "185/185 [==============================] - 34s 182ms/step - loss: 0.4716 - accuracy: 0.0965\n",
      "Epoch 13/100\n",
      "185/185 [==============================] - 34s 182ms/step - loss: 0.4159 - accuracy: 0.1041\n",
      "Epoch 14/100\n",
      "185/185 [==============================] - 34s 182ms/step - loss: 0.3646 - accuracy: 0.1105\n",
      "Epoch 15/100\n",
      "185/185 [==============================] - 34s 182ms/step - loss: 0.3215 - accuracy: 0.1158\n",
      "Epoch 16/100\n",
      "185/185 [==============================] - 34s 182ms/step - loss: 0.2843 - accuracy: 0.1210\n",
      "Epoch 17/100\n",
      "185/185 [==============================] - 34s 182ms/step - loss: 0.2533 - accuracy: 0.1251\n",
      "Epoch 18/100\n",
      "185/185 [==============================] - 34s 182ms/step - loss: 0.1909 - accuracy: 0.1335\n",
      "Epoch 21/100\n",
      "185/185 [==============================] - 34s 182ms/step - loss: 0.1763 - accuracy: 0.1358\n",
      "Epoch 22/100\n",
      "185/185 [==============================] - 34s 182ms/step - loss: 0.1650 - accuracy: 0.1374\n",
      "Epoch 23/100\n",
      "185/185 [==============================] - 34s 182ms/step - loss: 0.1485 - accuracy: 0.1402\n",
      "Epoch 24/100\n",
      "185/185 [==============================] - 34s 182ms/step - loss: 0.1310 - accuracy: 0.1436\n",
      "Epoch 25/100\n",
      "185/185 [==============================] - 34s 182ms/step - loss: 0.1178 - accuracy: 0.1460\n",
      "Epoch 26/100\n",
      "185/185 [==============================] - 34s 182ms/step - loss: 0.1032 - accuracy: 0.1491\n",
      "Epoch 27/100\n",
      "185/185 [==============================] - 34s 182ms/step - loss: 0.0932 - accuracy: 0.1513\n",
      "Epoch 28/100\n",
      "185/185 [==============================] - 34s 182ms/step - loss: 0.0831 - accuracy: 0.1536\n",
      "Epoch 29/100\n",
      "185/185 [==============================] - 34s 182ms/step - loss: 0.0756 - accuracy: 0.1554\n",
      "Epoch 30/100\n",
      "185/185 [==============================] - 34s 182ms/step - loss: 0.0678 - accuracy: 0.1572\n",
      "Epoch 31/100\n",
      "185/185 [==============================] - 34s 182ms/step - loss: 0.0617 - accuracy: 0.1586\n",
      "Epoch 32/100\n",
      "185/185 [==============================] - 34s 182ms/step - loss: 0.0566 - accuracy: 0.1600\n",
      "Epoch 33/100\n",
      "185/185 [==============================] - 34s 182ms/step - loss: 0.0514 - accuracy: 0.1614\n",
      "Epoch 34/100\n",
      "185/185 [==============================] - 34s 182ms/step - loss: 0.0478 - accuracy: 0.1622\n",
      "Epoch 35/100\n",
      "185/185 [==============================] - 34s 182ms/step - loss: 0.0439 - accuracy: 0.1632\n",
      "Epoch 36/100\n",
      "185/185 [==============================] - 34s 182ms/step - loss: 0.0414 - accuracy: 0.1639\n",
      "Epoch 37/100\n",
      "185/185 [==============================] - 34s 182ms/step - loss: 0.0394 - accuracy: 0.1643\n",
      "Epoch 38/100\n",
      "185/185 [==============================] - 34s 182ms/step - loss: 0.0346 - accuracy: 0.1656\n",
      "Epoch 39/100\n",
      "185/185 [==============================] - 34s 182ms/step - loss: 0.0327 - accuracy: 0.1663\n",
      "Epoch 40/100\n",
      "185/185 [==============================] - 34s 182ms/step - loss: 0.0314 - accuracy: 0.1665\n",
      "Epoch 41/100\n",
      "185/185 [==============================] - 34s 182ms/step - loss: 0.0298 - accuracy: 0.1669\n",
      "Epoch 42/100\n",
      "185/185 [==============================] - 34s 182ms/step - loss: 0.0276 - accuracy: 0.1676\n",
      "Epoch 43/100\n",
      "185/185 [==============================] - 34s 182ms/step - loss: 0.0260 - accuracy: 0.1681\n",
      "Epoch 44/100\n",
      "185/185 [==============================] - 34s 182ms/step - loss: 0.0248 - accuracy: 0.1683\n",
      "Epoch 45/100\n",
      "185/185 [==============================] - 34s 182ms/step - loss: 0.0244 - accuracy: 0.1684\n",
      "Epoch 46/100\n",
      "185/185 [==============================] - 34s 182ms/step - loss: 0.0228 - accuracy: 0.1688\n",
      "Epoch 47/100\n",
      "185/185 [==============================] - 34s 182ms/step - loss: 0.0213 - accuracy: 0.1692\n",
      "Epoch 48/100\n",
      "185/185 [==============================] - 34s 182ms/step - loss: 0.0210 - accuracy: 0.1693\n",
      "Epoch 49/100\n",
      "185/185 [==============================] - 34s 182ms/step - loss: 0.0194 - accuracy: 0.1698\n",
      "Epoch 50/100\n",
      "185/185 [==============================] - 34s 182ms/step - loss: 0.0193 - accuracy: 0.1699\n",
      "Epoch 51/100\n",
      "185/185 [==============================] - 34s 182ms/step - loss: 0.0176 - accuracy: 0.1703\n",
      "Epoch 52/100\n",
      "185/185 [==============================] - 34s 182ms/step - loss: 0.0179 - accuracy: 0.1701\n",
      "Epoch 53/100\n",
      "185/185 [==============================] - 34s 182ms/step - loss: 0.0174 - accuracy: 0.1704\n",
      "Epoch 54/100\n",
      "185/185 [==============================] - 34s 182ms/step - loss: 0.0155 - accuracy: 0.1709\n",
      "Epoch 55/100\n",
      "185/185 [==============================] - 34s 182ms/step - loss: 0.0159 - accuracy: 0.1708\n",
      "Epoch 56/100\n",
      "185/185 [==============================] - 34s 182ms/step - loss: 0.0148 - accuracy: 0.1710\n",
      "Epoch 57/100\n",
      "185/185 [==============================] - 34s 182ms/step - loss: 0.0145 - accuracy: 0.1712\n",
      "Epoch 58/100\n",
      "185/185 [==============================] - 34s 182ms/step - loss: 0.0144 - accuracy: 0.1712\n",
      "Epoch 59/100\n",
      "185/185 [==============================] - 34s 182ms/step - loss: 0.0135 - accuracy: 0.1714\n",
      "Epoch 60/100\n",
      "185/185 [==============================] - 34s 182ms/step - loss: 0.0132 - accuracy: 0.1714\n",
      "Epoch 61/100\n",
      "185/185 [==============================] - 34s 182ms/step - loss: 0.0130 - accuracy: 0.1715\n",
      "Epoch 62/100\n",
      "185/185 [==============================] - 34s 182ms/step - loss: 0.0126 - accuracy: 0.1716\n",
      "Epoch 63/100\n",
      "185/185 [==============================] - 34s 182ms/step - loss: 0.0119 - accuracy: 0.1718\n",
      "Epoch 64/100\n",
      "185/185 [==============================] - 34s 182ms/step - loss: 0.0113 - accuracy: 0.1719\n",
      "Epoch 65/100\n",
      "185/185 [==============================] - 34s 182ms/step - loss: 0.0111 - accuracy: 0.1720\n",
      "Epoch 66/100\n",
      "185/185 [==============================] - 34s 182ms/step - loss: 0.0111 - accuracy: 0.1720\n",
      "Epoch 67/100\n",
      "185/185 [==============================] - 34s 182ms/step - loss: 0.0108 - accuracy: 0.1721\n",
      "Epoch 68/100\n",
      "185/185 [==============================] - 34s 182ms/step - loss: 0.0109 - accuracy: 0.1721\n",
      "Epoch 69/100\n",
      "185/185 [==============================] - 34s 182ms/step - loss: 0.0103 - accuracy: 0.1723\n",
      "Epoch 70/100\n",
      "185/185 [==============================] - 34s 182ms/step - loss: 0.0101 - accuracy: 0.1723\n",
      "Epoch 71/100\n",
      "185/185 [==============================] - 34s 182ms/step - loss: 0.0099 - accuracy: 0.1723\n",
      "Epoch 72/100\n",
      "185/185 [==============================] - 34s 182ms/step - loss: 0.0096 - accuracy: 0.1724\n",
      "Epoch 73/100\n",
      "185/185 [==============================] - 34s 182ms/step - loss: 0.0092 - accuracy: 0.1725\n",
      "Epoch 74/100\n",
      "185/185 [==============================] - 34s 182ms/step - loss: 0.0097 - accuracy: 0.1724\n",
      "Epoch 75/100\n",
      "185/185 [==============================] - 34s 182ms/step - loss: 0.0090 - accuracy: 0.1726\n",
      "Epoch 76/100\n",
      "185/185 [==============================] - 34s 182ms/step - loss: 0.0087 - accuracy: 0.1726\n",
      "Epoch 77/100\n",
      "185/185 [==============================] - 34s 182ms/step - loss: 0.0085 - accuracy: 0.1727\n",
      "Epoch 78/100\n",
      "185/185 [==============================] - 34s 182ms/step - loss: 0.0083 - accuracy: 0.1728\n",
      "Epoch 79/100\n",
      "185/185 [==============================] - 34s 182ms/step - loss: 0.0085 - accuracy: 0.1727\n",
      "Epoch 80/100\n",
      "185/185 [==============================] - 34s 182ms/step - loss: 0.0082 - accuracy: 0.1728\n",
      "Epoch 81/100\n"
     ]
    },
    {
     "name": "stdout",
     "output_type": "stream",
     "text": [
      "185/185 [==============================] - 34s 182ms/step - loss: 0.0083 - accuracy: 0.1728\n",
      "Epoch 82/100\n",
      "185/185 [==============================] - 34s 182ms/step - loss: 0.0074 - accuracy: 0.1729\n",
      "Epoch 83/100\n",
      "185/185 [==============================] - 34s 182ms/step - loss: 0.0077 - accuracy: 0.1729\n",
      "Epoch 84/100\n",
      "185/185 [==============================] - 34s 182ms/step - loss: 0.0075 - accuracy: 0.1730\n",
      "Epoch 85/100\n",
      "185/185 [==============================] - 34s 182ms/step - loss: 0.0072 - accuracy: 0.1731\n",
      "Epoch 86/100\n",
      "185/185 [==============================] - 34s 182ms/step - loss: 0.0073 - accuracy: 0.1730\n",
      "Epoch 87/100\n",
      "185/185 [==============================] - 34s 182ms/step - loss: 0.0072 - accuracy: 0.1731\n",
      "Epoch 88/100\n",
      "185/185 [==============================] - 34s 182ms/step - loss: 0.0074 - accuracy: 0.1731\n",
      "Epoch 89/100\n",
      "185/185 [==============================] - 34s 182ms/step - loss: 0.0070 - accuracy: 0.1731\n",
      "Epoch 90/100\n",
      "185/185 [==============================] - 34s 182ms/step - loss: 0.0072 - accuracy: 0.1732\n",
      "Epoch 91/100\n",
      "185/185 [==============================] - 34s 182ms/step - loss: 0.0063 - accuracy: 0.1733\n",
      "Epoch 92/100\n",
      "185/185 [==============================] - 34s 182ms/step - loss: 0.0064 - accuracy: 0.1732\n",
      "Epoch 93/100\n",
      "185/185 [==============================] - 34s 182ms/step - loss: 0.0065 - accuracy: 0.1732\n",
      "Epoch 94/100\n",
      "185/185 [==============================] - 34s 182ms/step - loss: 0.0062 - accuracy: 0.1733\n",
      "Epoch 95/100\n",
      "185/185 [==============================] - 34s 182ms/step - loss: 0.0063 - accuracy: 0.1732\n",
      "Epoch 96/100\n",
      "185/185 [==============================] - 34s 182ms/step - loss: 0.0065 - accuracy: 0.1732\n",
      "Epoch 97/100\n",
      "185/185 [==============================] - 34s 182ms/step - loss: 0.0062 - accuracy: 0.1733\n",
      "Epoch 98/100\n",
      "185/185 [==============================] - 34s 182ms/step - loss: 0.0061 - accuracy: 0.1733\n",
      "Epoch 99/100\n",
      "185/185 [==============================] - 34s 182ms/step - loss: 0.0059 - accuracy: 0.1734\n",
      "Epoch 100/100\n",
      "185/185 [==============================] - 34s 182ms/step - loss: 0.0060 - accuracy: 0.1733\n"
     ]
    }
   ],
   "source": [
    "EPOCHS = 100\n",
    "history = model.fit(dataset, epochs=EPOCHS, verbose=1)"
   ]
  },
  {
   "cell_type": "code",
   "execution_count": 36,
   "id": "3ef1fd7d",
   "metadata": {
    "scrolled": true
   },
   "outputs": [
    {
     "data": {
      "image/png": "[encoded data removed]",
      "text/plain": [
       "<Figure size 432x288 with 1 Axes>"
      ]
     },
     "metadata": {
      "needs_background": "light"
     },
     "output_type": "display_data"
    }
   ],
   "source": [
    "plt.plot(history.history['loss'], label='loss')\n",
    "plt.plot(history.history['accuracy'], label='accuracy')\n",
    "plt.legend()\n",
    "plt.show()"
   ]
  },
  {
   "cell_type": "markdown",
   "id": "1cedb100",
   "metadata": {},
   "source": [
    "---\n",
    "\n",
    "# <span style=\"background-color:#E6E6FA\"> 5. 모델 평가하기 </span>"
   ]
  },
  {
   "cell_type": "code",
   "execution_count": 37,
   "id": "d064f3dd",
   "metadata": {},
   "outputs": [],
   "source": [
    "def decoder_inference(sentence):\n",
    "    sentence = preprocess_sentence(sentence)\n",
    "\n",
    "    # 입력된 문장을 정수 인코딩 후, 시작 토큰과 종료 토큰을 앞뒤로 추가.\n",
    "    # ex) Where have you been? → [[8331   86   30    5 1059    7 8332]]\n",
    "    sentence = tf.expand_dims(\n",
    "      START_TOKEN + tokenizer.encode(sentence) + END_TOKEN, axis=0)\n",
    "\n",
    "    # 디코더의 현재까지의 예측한 출력 시퀀스가 지속적으로 저장되는 변수.\n",
    "    # 처음에는 예측한 내용이 없음으로 시작 토큰만 별도 저장. ex) 8331\n",
    "    output_sequence = tf.expand_dims(START_TOKEN, 0)\n",
    "\n",
    "    # 디코더의 인퍼런스 단계\n",
    "    for i in range(MAX_LENGTH):\n",
    "        # 디코더는 최대 MAX_LENGTH의 길이만큼 다음 단어 예측을 반복합니다.\n",
    "        predictions = model(inputs=[sentence, output_sequence], training=False)\n",
    "        predictions = predictions[:, -1:, :]\n",
    "\n",
    "        # 현재 예측한 단어의 정수\n",
    "        predicted_id = tf.cast(tf.argmax(predictions, axis=-1), tf.int32)\n",
    "\n",
    "        # 만약 현재 예측한 단어가 종료 토큰이라면 for문을 종료\n",
    "        if tf.equal(predicted_id, END_TOKEN[0]):\n",
    "            break\n",
    "\n",
    "        # 예측한 단어들은 지속적으로 output_sequence에 추가됩니다.\n",
    "        # 이 output_sequence는 다시 디코더의 입력이 됩니다.\n",
    "        output_sequence = tf.concat([output_sequence, predicted_id], axis=-1)\n",
    "\n",
    "    return tf.squeeze(output_sequence, axis=0)"
   ]
  },
  {
   "cell_type": "code",
   "execution_count": 38,
   "id": "8569f680",
   "metadata": {},
   "outputs": [],
   "source": [
    "def sentence_generation(sentence):\n",
    "    # 입력 문장에 대해서 디코더를 동작 시켜 예측된 정수 시퀀스를 리턴받습니다.\n",
    "    prediction = decoder_inference(sentence)\n",
    "\n",
    "    # 정수 시퀀스를 다시 텍스트 시퀀스로 변환합니다.\n",
    "    predicted_sentence = tokenizer.decode(\n",
    "        [i for i in prediction if i < tokenizer.vocab_size])\n",
    "\n",
    "    print('입력 : {}'.format(sentence))\n",
    "    print('출력 : {}'.format(predicted_sentence))\n",
    "\n",
    "    return predicted_sentence"
   ]
  },
  {
   "cell_type": "code",
   "execution_count": 39,
   "id": "83694736",
   "metadata": {},
   "outputs": [],
   "source": [
    "def answers_list(question_list):\n",
    "    for qusetion in question_list:\n",
    "        sentence_generation(qusetion)\n",
    "        print()"
   ]
  },
  {
   "cell_type": "code",
   "execution_count": 40,
   "id": "6a786e54",
   "metadata": {},
   "outputs": [],
   "source": [
    "# GPT로 만든 질문\n",
    "question_list = [\n",
    "    \"최근에 본 영화 중에 추천할만한 것 있어?\",\n",
    "    \"요즘 핫한 음악 있어? 추천해줘!\",\n",
    "    \"맛있는 음식점 좀 알려줄래?\",\n",
    "    \"오늘 할 일이 없어. 뭘 해야할까?\",\n",
    "    \"좋은 책 추천 좀 해줄래?\",\n",
    "    \"여행가기 좋은 날씨 언제일까?\",\n",
    "    \"스트레스 풀기 좋은 방법 뭐가 있을까?\",\n",
    "    \"좋은 취미 뭐가 있을까?\",\n",
    "    \"올해 꼭 가보고 싶은 여행지 추천해줘!\",\n",
    "    \"인기있는 한국 드라마 좀 알려줄래?\"\n",
    "]"
   ]
  },
  {
   "cell_type": "code",
   "execution_count": 65,
   "id": "07babeee",
   "metadata": {},
   "outputs": [
    {
     "name": "stdout",
     "output_type": "stream",
     "text": [
      "입력 : 최근에 본 영화 중에 추천할만한 것 있어?\n",
      "출력 : 기다렸나봐요 .\n",
      "\n",
      "입력 : 요즘 핫한 음악 있어? 추천해줘!\n",
      "출력 : 그럴 수 있어요 .\n",
      "\n",
      "입력 : 맛있는 음식점 좀 알려줄래?\n",
      "출력 : 직접 그게 좋을 것 같아요 .\n",
      "\n",
      "입력 : 오늘 할 일이 없어. 뭘 해야할까?\n",
      "출력 : 직접 하면 더 부담이 있을 것 같아요 .\n",
      "\n",
      "입력 : 좋은 책 추천 좀 해줄래?\n",
      "출력 : 같이 등산해요 .\n",
      "\n",
      "입력 : 여행가기 좋은 날씨 언제일까?\n",
      "출력 : 퍼센트 현실입니다 .\n",
      "\n",
      "입력 : 스트레스 풀기 좋은 방법 뭐가 있을까?\n",
      "출력 : 신나는 노래를 들어보세요 .\n",
      "\n",
      "입력 : 좋은 취미 뭐가 있을까?\n",
      "출력 : 뭐든 시작해보면 좋을 거예요 .\n",
      "\n",
      "입력 : 올해 꼭 가보고 싶은 여행지 추천해줘!\n",
      "출력 : 내년이라고 별 수 있겠어요 .\n",
      "\n",
      "입력 : 인기있는 한국 드라마 좀 알려줄래?\n",
      "출력 : 집에서도 할 게 많아요 .\n",
      "\n"
     ]
    }
   ],
   "source": [
    "answers_list(question_list)"
   ]
  },
  {
   "cell_type": "code",
   "execution_count": 63,
   "id": "b54ea7e3",
   "metadata": {},
   "outputs": [],
   "source": [
    "# 내가 만든 질문\n",
    "question_list2 = [\n",
    "    \"오늘 뭐 할까\",\n",
    "    \"피곤하네\",\n",
    "    \"배고픈데 뭐 먹을까\",\n",
    "    \"강아지 키우고 싶어\",\n",
    "    \"좋아하는 사람이 있어\",\n",
    "    \"슬픈 이야기\",\n",
    "    \"사랑은 뭘까?\",\n",
    "    \"결혼은 뭘까\",\n",
    "    \"공부하기 싫어\"\n",
    "]"
   ]
  },
  {
   "cell_type": "code",
   "execution_count": 64,
   "id": "a36894a1",
   "metadata": {},
   "outputs": [
    {
     "name": "stdout",
     "output_type": "stream",
     "text": [
      "입력 : 오늘 뭐 할까\n",
      "출력 : 쉽게 드시는거 보기만 해도 좋아요 .\n",
      "\n",
      "입력 : 피곤하네\n",
      "출력 : 제가 곁에 있을게요 .\n",
      "\n",
      "입력 : 배고픈데 뭐 먹을까\n",
      "출력 : 냉장고 파먹기 해보세요 .\n",
      "\n",
      "입력 : 강아지 키우고 싶어\n",
      "출력 : 책임질 수 있을 때 키워 보세요 .\n",
      "\n",
      "입력 : 좋아하는 사람이 있어\n",
      "출력 : 좋아하는 감정과 대상이 있다는 건 행복한 일이에요 .\n",
      "\n",
      "입력 : 슬픈 이야기\n",
      "출력 : 슬픈 이별이기도 하네요 .\n",
      "\n",
      "입력 : 사랑은 뭘까?\n",
      "출력 : 사랑은 때론 잔인하죠 .\n",
      "\n",
      "입력 : 결혼은 뭘까\n",
      "출력 : 퍼센트 현실입니다 .\n",
      "\n",
      "입력 : 공부하기 싫어\n",
      "출력 : 잠시 쉬어도 돼요 .\n",
      "\n"
     ]
    }
   ],
   "source": [
    "answers_list(question_list2)"
   ]
  },
  {
   "cell_type": "code",
   "execution_count": 78,
   "id": "bbac0727",
   "metadata": {},
   "outputs": [],
   "source": [
    "# GPT가 만든 질문을 짧게 변경\n",
    "question_list3 = [\n",
    "    \"최근에 가장 행복한 순간은?\",\n",
    "    \"현재 기분 어때요?\",\n",
    "    \"자주 느끼는 스트레스 원인은?\",\n",
    "    \"최근에 실망한 일은?\",\n",
    "    \"감사한 순간은 언제인가요?\",\n",
    "    \"이번 주 동안 어떤 도전이 있었나요?\",\n",
    "    \"좋아하는 활동 할 때 느끼는 감정은?\",\n",
    "    \"긴장을 많이 느끼는 상황은?\",\n",
    "    \"가장 인상 깊은 가족/친구와의 순간은?\"\n",
    "    \"어떤 상황에서 흥분을 느끼나요?\"\n",
    "]"
   ]
  },
  {
   "cell_type": "code",
   "execution_count": 79,
   "id": "3e33971c",
   "metadata": {},
   "outputs": [
    {
     "name": "stdout",
     "output_type": "stream",
     "text": [
      "입력 : 최근에 가장 행복한 순간은?\n",
      "출력 : 좋아할 거예요 .\n",
      "\n",
      "입력 : 현재 기분 어때요?\n",
      "출력 : 그럴 수도 있어요 .\n",
      "\n",
      "입력 : 자주 느끼는 스트레스 원인은?\n",
      "출력 : 볼 수가 없군요 .\n",
      "\n",
      "입력 : 최근에 실망한 일은?\n",
      "출력 : 안 좋은가까운 곳이 좋겠죠 .\n",
      "\n",
      "입력 : 감사한 순간은 언제인가요?\n",
      "출력 : 그렇게 생각하면 좋을 거 같아요 .\n",
      "\n",
      "입력 : 이번 주 동안 어떤 도전이 있었나요?\n",
      "출력 : 수수수수수수수수수수수수수수수수수수수수수수수수수수수수수수수수수수수수수수수수\n",
      "\n",
      "입력 : 좋아하는 활동 할 때 느끼는 감정은?\n",
      "출력 : 그 제 연락을 자주 하거나 자신이 정하는 거죠 .\n",
      "\n",
      "입력 : 긴장을 많이 느끼는 상황은?\n",
      "출력 : 언제든 더 좋은 사람 만날 수 있어요 .\n",
      "\n",
      "입력 : 가장 인상 깊은 가족/친구와의 순간은?\n",
      "출력 : 서로 속도를 맞춰보세요 .\n",
      "\n",
      "입력 : 어떤 상황에서 흥분을 느끼나요?\n",
      "출력 : 있어도 계속 아플 거예요 .\n",
      "\n"
     ]
    }
   ],
   "source": [
    "answers_list(question_list3)"
   ]
  },
  {
   "attachments": {
    "image-2.png": {
     "image/png": "[encoded data removed]"
    },
    "image-3.png": {
     "image/png": "[encoded data removed]"
    },
    "image-4.png": {
     "image/png": "[encoded data removed]"
    },
    "image.png": {
     "image/png": "[encoded data removed]"
    }
   },
   "cell_type": "markdown",
   "id": "9824afd2",
   "metadata": {},
   "source": [
    "# <span style=\"background-color:#C0FFFF\"> 결과 </span>\n",
    "\n",
    "### epoch 20\n",
    "NUM_LAYERS = 2 # 인코더와 디코더의 층의 개수  \n",
    "D_MODEL = 256 # 인코더와 디코더 내부의 입, 출력의 고정 차원  \n",
    "NUM_HEADS = 8 # 멀티 헤드 어텐션에서의 헤드 수  \n",
    "UNITS = 512 # 피드 포워드 신경망의 은닉층의 크기  \n",
    "DROPOUT = 0.1 # 드롭아웃의 비율  \n",
    "\n",
    "![image.png](attachment:image.png) |![image-2.png](attachment:image-2.png)\n",
    "--- | --- |\n",
    "\n",
    "### epoch 100\n",
    "NUM_LAYERS = 4 # 인코더와 디코더의 층의 개수  \n",
    "D_MODEL = 512 # 인코더와 디코더 내부의 입, 출력의 고정 차원  \n",
    "NUM_HEADS = 16 # 멀티 헤드 어텐션에서의 헤드 수  \n",
    "UNITS = 1024 # 피드 포워드 신경망의 은닉층의 크기  \n",
    "DROPOUT = 0.2 # 드롭아웃의 비율  \n",
    "\n",
    "![image-3.png](attachment:image-3.png)  |![image-4.png](attachment:image-4.png)\n",
    "--- | --- |\n",
    "\n",
    "그래프에서 볼 수 있듯이 accuracy는 epoch 30 부터는 큰 변화가 일어나지 않았고, 하이퍼 파라미터를 변경해도 거의 비슷했다.\n",
    "accuracy를 높이기 위해서는 더 많은 데이터와 전처리 등 다른 방법이 필요할 것 같다."
   ]
  },
  {
   "cell_type": "markdown",
   "id": "3f713764",
   "metadata": {},
   "source": [
    "---\n",
    "\n",
    "# <span style=\"background-color:#C0FFFF\"> 회고 </span>\n",
    "\n",
    "이번 프로젝트는 한국어 데이터를 가지고 챗봇을 만들어 보았다.\n",
    "\n",
    "전 프로젝트 중에 영화리뷰 분석에서는 형태소 분석기를 사용했었는데 이번 프로젝트에서는 영어를 다룬 노드에서 사용했던 SubwordTextEncoder를 그대로 사용하였다. 그래도 학습 데이터에 있을만한 문장을 넣으니 위의 epoch 100처럼 결과가 잘 나오는 것을 볼 수 있었다.\n",
    "\n",
    "하지만 gpt가 생성해준 질문으로는 답변이 만족스럽지 않았다.\n",
    "\n",
    "\n",
    "어려웠던 부분: 트랜스포머를 이해하기가 쉽지 않았다.. 어텐션의 개념에 대해서 더 공부해야 할 것 같다."
   ]
  }
 ],
 "metadata": {
  "kernelspec": {
   "display_name": "Python 3 (ipykernel)",
   "language": "python",
   "name": "python3"
  },
  "language_info": {
   "codemirror_mode": {
    "name": "ipython",
    "version": 3
   },
   "file_extension": ".py",
   "mimetype": "text/x-python",
   "name": "python",
   "nbconvert_exporter": "python",
   "pygments_lexer": "ipython3",
   "version": "3.9.7"
  }
 },
 "nbformat": 4,
 "nbformat_minor": 5
}
