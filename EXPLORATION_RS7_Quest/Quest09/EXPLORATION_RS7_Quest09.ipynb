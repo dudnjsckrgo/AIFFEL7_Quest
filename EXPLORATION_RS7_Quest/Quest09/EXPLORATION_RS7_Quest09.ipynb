{
 "cells": [
  {
   "cell_type": "code",
   "execution_count": null,
   "id": "52b2bedb",
   "metadata": {},
   "outputs": [],
   "source": [
    "# Quest09: 한국어 데이터로 챗봇 만들기\n",
    "\n",
    "### 평가문항에 맞춰서 작성\n",
    "**1. pix2pix 모델 학습을 위해 필요한 데이터셋을 적절히 구축하였다.**  \n",
    "-> 데이터 분석 과정 및 한 가지 이상의 augmentation을 포함한 데이터셋 구축 과정이 체계적으로 제시되었다.\n",
    "\n",
    "**2. pix2pix 모델을 구현하여 성공적으로 학습 과정을 진행하였다.**  \n",
    "-> U-Net generator, discriminator 모델 구현이 완료되어 train_step의 output을 확인하고 개선하였다.\n",
    "\n",
    "**3. 학습 과정 및 테스트에 대한 시각화 결과를 제출하였다.**  \n",
    "-> 10 epoch 이상의 학습을 진행한 후 최종 테스트 결과에서 진행한 epoch 수에 걸맞은 정도의 품질을 확인하였다."
   ]
  },
  {
   "cell_type": "markdown",
   "id": "bbfd0ec5",
   "metadata": {},
   "source": [
    "# Import"
   ]
  },
  {
   "cell_type": "markdown",
   "id": "ae40beda",
   "metadata": {},
   "source": [
    "---\n",
    "\n",
    "# <span style=\"background-color:#E6E6FA\">  1. 데이터 수집하기</span>"
   ]
  },
  {
   "cell_type": "code",
   "execution_count": null,
   "id": "b0914b36",
   "metadata": {},
   "outputs": [],
   "source": []
  },
  {
   "cell_type": "code",
   "execution_count": null,
   "id": "778417a5",
   "metadata": {},
   "outputs": [],
   "source": []
  },
  {
   "cell_type": "code",
   "execution_count": null,
   "id": "5cd6d3ec",
   "metadata": {},
   "outputs": [],
   "source": []
  }
 ],
 "metadata": {
  "kernelspec": {
   "display_name": "Python 3 (ipykernel)",
   "language": "python",
   "name": "python3"
  },
  "language_info": {
   "codemirror_mode": {
    "name": "ipython",
    "version": 3
   },
   "file_extension": ".py",
   "mimetype": "text/x-python",
   "name": "python",
   "nbconvert_exporter": "python",
   "pygments_lexer": "ipython3",
   "version": "3.9.7"
  }
 },
 "nbformat": 4,
 "nbformat_minor": 5
}
